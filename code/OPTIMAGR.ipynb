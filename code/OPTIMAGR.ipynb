{
 "cells": [
  {
   "cell_type": "markdown",
   "id": "0b3807e7",
   "metadata": {},
   "source": [
    "# OPTIMA Graduate Research Workshop\n",
    "## On Benders decomposition\n",
    "\n",
    "Andreas Ernst\n",
    "\n",
    "Alysson M. Costa\n",
    "\n"
   ]
  },
  {
   "cell_type": "markdown",
   "id": "5fd4fb47",
   "metadata": {},
   "source": [
    "## Toy example "
   ]
  },
  {
   "cell_type": "markdown",
   "id": "9d52ded3",
   "metadata": {},
   "source": [
    "## 1. MIP implementation"
   ]
  },
  {
   "cell_type": "code",
   "execution_count": 2,
   "id": "138625a8",
   "metadata": {},
   "outputs": [
    {
     "name": "stdout",
     "output_type": "stream",
     "text": [
      "Gurobi Optimizer version 9.5.0 build v9.5.0rc5 (mac64[x86])\n",
      "Thread count: 4 physical cores, 8 logical processors, using up to 8 threads\n",
      "Optimize a model with 2 rows, 4 columns and 6 nonzeros\n",
      "Model fingerprint: 0x8ff96f06\n",
      "Variable types: 2 continuous, 2 integer (2 binary)\n",
      "Coefficient statistics:\n",
      "  Matrix range     [1e+00, 1e+00]\n",
      "  Objective range  [1e+00, 1e+00]\n",
      "  Bounds range     [1e+00, 1e+00]\n",
      "  RHS range        [1e+00, 2e+00]\n",
      "Presolve removed 2 rows and 4 columns\n",
      "Presolve time: 0.00s\n",
      "Presolve: All rows and columns removed\n",
      "\n",
      "Explored 0 nodes (0 simplex iterations) in 0.01 seconds (0.00 work units)\n",
      "Thread count was 1 (of 8 available processors)\n",
      "\n",
      "Solution count 1: 3 \n",
      "\n",
      "Optimal solution found (tolerance 1.00e-04)\n",
      "Best objective 3.000000000000e+00, best bound 3.000000000000e+00, gap 0.0000%\n"
     ]
    }
   ],
   "source": [
    "import gurobipy as gp\n",
    "from gurobipy import GRB\n",
    "\n",
    "m = gp.Model(\"A mixed integer program\")\n",
    "\n",
    "\n",
    "#variables\n",
    "\n",
    "indices = [1, 2]\n",
    "x = m.addVars(indices, name = 'x',)\n",
    "y = m.addVars(indices, name = 'y', vtype = GRB.BINARY)\n",
    "\n",
    "#objective\n",
    "m.setObjective( x[1] - x[2] + y[1] + y[2] , GRB.MAXIMIZE)\n",
    "\n",
    "#constraints\n",
    "cons1 = m.addConstr( x[1] + x[2] + y[2] <= 2)\n",
    "cons2 = m.addConstr( -x[1] - x[2] + y[1] <= -1)\n",
    "\n",
    "#solve\n",
    "m.optimize()"
   ]
  },
  {
   "cell_type": "markdown",
   "id": "d117aea6",
   "metadata": {},
   "source": [
    "## 2. Benders"
   ]
  },
  {
   "cell_type": "markdown",
   "id": "333bdbcf",
   "metadata": {},
   "source": [
    "### 2.1 Master template"
   ]
  },
  {
   "cell_type": "code",
   "execution_count": null,
   "id": "39f71612",
   "metadata": {},
   "outputs": [],
   "source": [
    "import gurobipy as gp\n",
    "from gurobipy import GRB\n",
    "\n",
    "m = gp.Model(#fill)\n",
    "y = m.addVars(#fill)\n",
    "z = m.addVar(#fill, ub=10000)\n",
    "m.setObjective(#fill)"
   ]
  },
  {
   "cell_type": "markdown",
   "id": "fe54f9db",
   "metadata": {},
   "source": [
    "### 2.1 Dual subproblem template"
   ]
  },
  {
   "cell_type": "code",
   "execution_count": null,
   "id": "81663638",
   "metadata": {},
   "outputs": [],
   "source": [
    "import gurobipy as gp\n",
    "from gurobipy import GRB\n",
    "\n",
    "s = gp.Model(#fill)\n",
    "s.Params.InfUnbdInfo = 1 #allow to get dual ray\n",
    "x = s.addVars(#fill)\n",
    "cons1 = s.addConstr(#fill, name=\"cons1\")\n",
    "cons2 = s.addConstr(#fill, name=\"cons2\")"
   ]
  },
  {
   "cell_type": "markdown",
   "id": "bdc30c2a",
   "metadata": {},
   "source": [
    "### 2.2 Main loop template"
   ]
  },
  {
   "cell_type": "code",
   "execution_count": null,
   "id": "ac612374",
   "metadata": {},
   "outputs": [],
   "source": [
    "import gurobipy as gp\n",
    "from gurobipy import GRB\n",
    "\n",
    "#Benders loop\n",
    "LB = -100000; UB = 100000\n",
    "\n",
    "while(UB - LB >= 0.00001):\n",
    "  #optimize Master\n",
    "  m.optimize()\n",
    "  UB = m.objVal\n",
    "\n",
    "  #update the right hand side of the subproblem\n",
    "  cons1.rhs = #fill\n",
    "  cons2.rhs = #fill\n",
    "\n",
    "  #optimize sub\n",
    "  s.optimize()\n",
    "\n",
    "  #generate cuts\n",
    "  if s.status == 3:\n",
    "    print(\"Infeasibility cut\")\n",
    "    # get the dual ray\n",
    "    u1 = cons1.getAttr('FarkasDual') \n",
    "    u2 = cons2.getAttr('FarkasDual') \n",
    "    m.addConstr(#fill)  #add the new cut\n",
    "  else:\n",
    "    print(\"Feasibility cut\")\n",
    "    # get the dual ray\n",
    "    u1 = cons1.getAttr('Pi')\n",
    "    u2 = cons2.getAttr('Pi')\n",
    "    m.addConstr( #fill)\n",
    "\n",
    "    #fill (update the best lower bound if necessary).\n"
   ]
  },
  {
   "cell_type": "markdown",
   "id": "16a7ebe6",
   "metadata": {},
   "source": [
    "# 3. Answers"
   ]
  },
  {
   "cell_type": "markdown",
   "id": "5b740b33",
   "metadata": {},
   "source": [
    "### 3.1 Classic implementation"
   ]
  },
  {
   "cell_type": "code",
   "execution_count": 3,
   "id": "e9133ac4",
   "metadata": {},
   "outputs": [
    {
     "name": "stdout",
     "output_type": "stream",
     "text": [
      "Set parameter InfUnbdInfo to value 1\n",
      "Infeasibility constraint\n",
      "<gurobi.LinExpr: 1.0 + -1.0 y[1] + -1.0 y[0]> >= 0\n",
      "-100000   1002.0\n",
      "Feasibility constraint\n",
      "<gurobi.LinExpr: 2.0 + -1.0 y[1] + -0.0 y[0]> >= z\n",
      "3.0   1001.0\n",
      "Feasibility constraint\n",
      "<gurobi.LinExpr: 2.0 + -1.0 y[1] + -0.0 y[0]> >= z\n",
      "3.0   3.0\n",
      "y[0] 1.0\n",
      "z 2.0\n",
      "Total profit:  3.0\n"
     ]
    }
   ],
   "source": [
    "import gurobipy as gp\n",
    "from gurobipy import GRB\n",
    "\n",
    "#master\n",
    "m = gp.Model()\n",
    "y = m.addVars(2, vtype = GRB.BINARY, name=\"y\")\n",
    "z = m.addVar(name=\"z\", ub=1000)\n",
    "m.setObjective(y[0]  + y[1] + z, GRB.MAXIMIZE)\n",
    "m.Params.OutputFlag= 0\n",
    "\n",
    "#sub\n",
    "s = gp.Model()\n",
    "s.Params.InfUnbdInfo = 1\n",
    "s.Params.OutputFlag= 0\n",
    "x = s.addVars(2, name=\"x\")\n",
    "cons1 = s.addConstr(x[0] + x[1] <= 0, name=\"cons1\")\n",
    "cons2 = s.addConstr(-x[0] - x[1] <= 0, name=\"cons2\")\n",
    "s.setObjective(x[0] - x[1],GRB.MAXIMIZE)\n",
    "\n",
    "#Benders loop\n",
    "\n",
    "LB = -100000\n",
    "UB = 100000\n",
    "\n",
    "while(UB - LB >= 0.00001):\n",
    "\n",
    "  #optimize Master\n",
    "  m.optimize()\n",
    "  UB = m.objVal\n",
    "\n",
    "  #update sub\n",
    "  cons1.rhs = 2 - y[1].x\n",
    "  cons2.rhs = -1 - y[0].x\n",
    "\n",
    "  #optimize sub\n",
    "  s.optimize()\n",
    "\n",
    "  #generate cuts\n",
    "  if s.status == 3:\n",
    "    print(\"Infeasibility constraint\")\n",
    "    u1 = cons1.getAttr('FarkasDual')\n",
    "    u2 = cons2.getAttr('FarkasDual')\n",
    "    expr = u1*(2 - y[1]) + u2*(-1  - y[0])\n",
    "    m.addConstr(expr >= 0)\n",
    "    print(expr, \">=\", \"0\")\n",
    "  else:\n",
    "    print(\"Feasibility constraint\")\n",
    "    u1 = cons1.getAttr('Pi')\n",
    "    u2 = cons2.getAttr('Pi')\n",
    "    expr = u1*(2 - y[1]) + u2*(-1  - y[0])\n",
    "    print(expr, \">=\", \"z\")\n",
    "    m.addConstr( expr >= z)\n",
    "    if   y[0].x  + y[1].x  + s.objVal > LB:\n",
    "      LB = y[0].x  + y[1].x  + s.objVal\n",
    "\n",
    "  print(LB, \" \", UB)\n",
    "\n",
    "# # Display optimal values of decision variables\n",
    "for v in m.getVars():\n",
    "    if v.x > 1e-6:\n",
    "        print(v.varName, v.x)\n",
    "\n",
    "# Display optimal solution value\n",
    "print('Total profit: ', m.objVal)\n"
   ]
  },
  {
   "cell_type": "markdown",
   "id": "e0428228",
   "metadata": {},
   "source": [
    "### 3.2 Implementation with Lazy constraints"
   ]
  },
  {
   "cell_type": "code",
   "execution_count": 4,
   "id": "cd607cb0",
   "metadata": {},
   "outputs": [
    {
     "name": "stdout",
     "output_type": "stream",
     "text": [
      "Set parameter InfUnbdInfo to value 1\n",
      "Set parameter LazyConstraints to value 1\n",
      "{0: 1.0, 1: 1.0}\n",
      "Infeasibility constraint\n",
      "<gurobi.LinExpr: 1.0 + -1.0 y[1] + -1.0 y[0]> >= 0\n",
      "{0: 1.0, 1: 1.0}\n",
      "Infeasibility constraint\n",
      "<gurobi.LinExpr: 1.0 + -1.0 y[1] + -1.0 y[0]> >= 0\n",
      "{0: 1.0, 1: 1.0}\n",
      "Infeasibility constraint\n",
      "<gurobi.LinExpr: 1.0 + -1.0 y[1] + -1.0 y[0]> >= 0\n",
      "{0: 1.0, 1: 1.0}\n",
      "Infeasibility constraint\n",
      "<gurobi.LinExpr: 1.0 + -1.0 y[1] + -1.0 y[0]> >= 0\n",
      "{0: 1.0, 1: 1.0}\n",
      "Infeasibility constraint\n",
      "<gurobi.LinExpr: 1.0 + -1.0 y[1] + -1.0 y[0]> >= 0\n",
      "{0: 1.0, 1: -0.0}\n",
      "Feasibility constraint\n",
      "<gurobi.LinExpr: 2.0 + -1.0 y[1] + -0.0 y[0]> >= z\n",
      "{0: 1.0, 1: -0.0}\n",
      "Feasibility constraint\n",
      "<gurobi.LinExpr: 2.0 + -1.0 y[1] + -0.0 y[0]> >= z\n",
      "y[0] 1.0\n",
      "z 2.0\n",
      "Total profit:  3.0\n"
     ]
    }
   ],
   "source": [
    "import gurobipy as gp\n",
    "from gurobipy import GRB\n",
    "\n",
    "\n",
    "#Initial Subproblem:\n",
    "def initial_sub():\n",
    "  s = gp.Model()\n",
    "  s.Params.InfUnbdInfo = 1\n",
    "  s.Params.OutputFlag= 0\n",
    "  x = s.addVars(2, name=\"x\")\n",
    "  cons1 = s.addConstr(x[0] + x[1] <= 0, name=\"cons1\")\n",
    "  cons2 = s.addConstr(-x[0] -x[1] <= 0, name=\"cons2\")\n",
    "  s.setObjective(x[0] - x[1],GRB.MAXIMIZE)\n",
    "  return s  \n",
    "\n",
    "#Update subproblem\n",
    "def update_subproblem(s,y1,y2):\n",
    "  cons1 = s.getConstrByName(\"cons1\")\n",
    "  cons2 = s.getConstrByName(\"cons2\")\n",
    "  cons1.rhs = 2 - y2\n",
    "  cons2.rhs = -1 - y1\n",
    "\n",
    "def generate_cuts(model,where):\n",
    "  if where == GRB.Callback.MIPSOL:\n",
    "    valsy = model.cbGetSolution(model._y)\n",
    "    print(valsy)\n",
    "    update_subproblem(s,valsy[0],valsy[1])   \n",
    "    s.optimize()    \n",
    "    if s.status == 3:\n",
    "      print(\"Infeasibility constraint\")\n",
    "      cons1 = s.getConstrByName(\"cons1\")\n",
    "      cons2 = s.getConstrByName(\"cons2\")\n",
    "      u1 = cons1.getAttr('FarkasDual')\n",
    "      u2 = cons2.getAttr('FarkasDual')\n",
    "      expr = u1*(2 - y[1]) + u2*(-1  - y[0])\n",
    "      print(expr, \">=\", \"0\")\n",
    "      model.cbLazy( expr >= 0)\n",
    "    else:\n",
    "      print(\"Feasibility constraint\")\n",
    "      cons1 = s.getConstrByName(\"cons1\")\n",
    "      cons2 = s.getConstrByName(\"cons2\")\n",
    "      u1 = cons1.getAttr('Pi')\n",
    "      u2 = cons2.getAttr('Pi')\n",
    "      expr = u1*(2 - y[1]) + u2*(-1  - y[0])\n",
    "      print(expr, \">=\", \"z\")\n",
    "      model.cbLazy( expr >= m._z)\n",
    "\n",
    "s = initial_sub()\n",
    "s.write(\"model.lp\")\n",
    "\n",
    "#master\n",
    "m = gp.Model()\n",
    "y = m.addVars(2, vtype = GRB.BINARY, name=\"y\")\n",
    "z = m.addVar(name=\"z\", ub=1000)\n",
    "\n",
    "m.setObjective(y[0]  + y[1] + z, GRB.MAXIMIZE)\n",
    "\n",
    "m.Params.LazyConstraints = 1\n",
    "m._y = y\n",
    "m._z = z\n",
    "m.Params.OutputFlag= 0\n",
    "m.optimize(generate_cuts)\n",
    "\n",
    "s.write(\"model.lp\")\n",
    "\n",
    "\n",
    "# Display optimal values of decision variables\n",
    "for v in m.getVars():\n",
    "    if v.x > 1e-6:\n",
    "        print(v.varName, v.x)\n",
    "\n",
    "# Display optimal solution value\n",
    "print('Total profit: ', m.objVal)"
   ]
  },
  {
   "cell_type": "code",
   "execution_count": null,
   "id": "12c22793",
   "metadata": {},
   "outputs": [],
   "source": []
  }
 ],
 "metadata": {
  "kernelspec": {
   "display_name": "Python 3 (ipykernel)",
   "language": "python",
   "name": "python3"
  },
  "language_info": {
   "codemirror_mode": {
    "name": "ipython",
    "version": 3
   },
   "file_extension": ".py",
   "mimetype": "text/x-python",
   "name": "python",
   "nbconvert_exporter": "python",
   "pygments_lexer": "ipython3",
   "version": "3.9.7"
  }
 },
 "nbformat": 4,
 "nbformat_minor": 5
}
